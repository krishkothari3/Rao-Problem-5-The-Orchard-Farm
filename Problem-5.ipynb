{
 "cells": [
  {
   "cell_type": "code",
   "execution_count": 36,
   "id": "219363ea",
   "metadata": {},
   "outputs": [],
   "source": [
    "import math\n",
    "def getMaximumAmount(n,days):\n",
    "    d = {12000:10,10000:6,27500:15,8000:15,7500:5}\n",
    "    output = 0\n",
    "    for i in d:\n",
    "        d[i] = math.floor(days/d[i])\n",
    "    l = [i*d[i] for i in d]\n",
    "    l.sort(reverse=True)\n",
    "    maximum = math.floor(n*0.4)\n",
    "    output += l[0] * maximum\n",
    "    output += l[1] * maximum\n",
    "    output += l[2] * (n-(2*maximum+2))\n",
    "    output += l[3]\n",
    "    output += l[4]\n",
    "    return output\n",
    "smallInput = open(\"TOF_small.txt\",\"r\").readlines()\n",
    "smallInput = [s.rstrip(\"\\n\") for s in smallInput]\n",
    "smallOutput = open(\"SmallOutput.txt\",\"a\")\n",
    "smallInput.pop(0)\n",
    "smallInput = [smallInput[i].split(\"\\t\") for i in range(len(smallInput))]\n",
    "case = 1\n",
    "for i in smallInput:\n",
    "    smallOutput.write(\"Case #\"+str(case)+ \": \" + str(getMaximumAmount(int(i[0]),int(i[1]))) + \"\\n\")\n",
    "    case += 1\n",
    "smallOutput.close()"
   ]
  },
  {
   "cell_type": "code",
   "execution_count": 37,
   "id": "59e4fde0",
   "metadata": {},
   "outputs": [],
   "source": [
    "largeInput = open(\"TOF_large.txt\",\"r\").readlines()\n",
    "largeInput = [s.rstrip(\"\\n\") for s in largeInput]\n",
    "largeOutput = open(\"LargeOutput.txt\",\"a\")\n",
    "largeInput.pop(0)\n",
    "largeInput = [largeInput[i].split(\"\\t\") for i in range(len(largeInput))]\n",
    "case = 1\n",
    "for i in largeInput:\n",
    "    largeOutput.write(\"Case #\"+str(case)+ \": \" + str(getMaximumAmount(int(i[0]),int(i[1]))) + \"\\n\")\n",
    "    case += 1\n",
    "largeOutput.close()"
   ]
  },
  {
   "cell_type": "code",
   "execution_count": null,
   "id": "b17601d0",
   "metadata": {},
   "outputs": [],
   "source": []
  }
 ],
 "metadata": {
  "kernelspec": {
   "display_name": "Python 3 (ipykernel)",
   "language": "python",
   "name": "python3"
  },
  "language_info": {
   "codemirror_mode": {
    "name": "ipython",
    "version": 3
   },
   "file_extension": ".py",
   "mimetype": "text/x-python",
   "name": "python",
   "nbconvert_exporter": "python",
   "pygments_lexer": "ipython3",
   "version": "3.9.13"
  }
 },
 "nbformat": 4,
 "nbformat_minor": 5
}
